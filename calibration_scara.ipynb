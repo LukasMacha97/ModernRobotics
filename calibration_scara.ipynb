{
 "cells": [
  {
   "cell_type": "code",
   "execution_count": 1,
   "metadata": {},
   "outputs": [],
   "source": [
    "import modern_robotics as mr\n",
    "import numpy as np\n",
    "import numpy.matlib\n",
    "from calibration import *\n",
    "numpy.set_printoptions(precision=16)"
   ]
  },
  {
   "cell_type": "code",
   "execution_count": 2,
   "metadata": {},
   "outputs": [
    {
     "name": "stdout",
     "output_type": "stream",
     "text": [
      "Mean error = 84.88577410701458\n",
      "Mean error calibrated = 0.29318558208139683\n",
      "Max error before = 162.90127884790965\n",
      "Max error calibrated = 0.5256773078506304\n"
     ]
    }
   ],
   "source": [
    "w1 = np.array([0,0,1])\n",
    "p1 = np.array([0,0,0])\n",
    "\n",
    "w2 = np.array([0,0,1])\n",
    "p2 = np.array([0.250,0,0])\n",
    "\n",
    "w3 = np.array([0,0,0])\n",
    "p3 = np.array([0,0,-1])\n",
    "\n",
    "w4 = np.array([0,0,-1])\n",
    "p4 = np.array([0.470,0,0])\n",
    "\n",
    "\n",
    "\n",
    "s = 0.001\n",
    "ax1 = mr.ScrewToAxis(p1,w1,0)\n",
    "ax2 = mr.ScrewToAxis(p2,w2,0)\n",
    "ax3 = np.r_[[0,0,0],p3]\n",
    "ax4 = mr.ScrewToAxis(p4,w4,0)\n",
    "xi0 = np.c_[ax1,ax2,ax3,ax4]\n",
    "\n",
    "\n",
    "deq1=0\n",
    "deq2=0.02\n",
    "deq3=0.002\n",
    "deq4=0.02\n",
    "\n",
    "xi01= np.array([0.0199900035972015,0,0.999800179914059,0,0.0130330000000000*1000*s,0])\n",
    "xi02=np.array([0,0.000399999968000004,0.999999920000010,-0.000300000000000000*1000*s,-0.253990000161600*1000*s,0.000101596000064640*1000*s])\n",
    "xi03=np.array([0,0,0,0.0199999568791395,0.0195999577415567,-0.999607844797830])\n",
    "xi04=np.array([0.0407700195329210,0.0391700187663605,-0.998400478333784,-0.0266829837144079*1000*s,0.504558015646471*1000*s,0.0187056011887379*1000*s])\n",
    "xi00=np.c_[xi01,xi02,xi03,xi04]\n",
    "N=10 \n",
    "\n",
    "vtheta=np.c_[np.random.rand(N,1)*2*np.pi,np.random.rand(N,1)*2*np.pi,np.random.rand(N,1)*1000*s,np.random.rand(N,1)*2*np.pi]\n",
    "P00=np.array([-100,-100,-100])*s\n",
    "P01=np.array([100,0,0])*s\n",
    "P02=np.array([0,100,0])*s\n",
    "P03=np.array([0,0,100])*s\n",
    "PX=np.c_[P01,P02,P03]\n",
    "gm=np.zeros((4,4,N))\n",
    "gn=np.zeros((4,4,N))\n",
    "Pa1=np.zeros((4,N))\n",
    "Pa2=np.zeros((4,N))\n",
    "Pa3=np.zeros((4,N))\n",
    "M_home = np.eye(4)\n",
    "\n",
    "\n",
    "for i in range(0,10):\n",
    "    \n",
    "    thetalist = np.array([ vtheta[i,0] + deq1, vtheta[i,1] + deq2, vtheta[i,2] + deq3, vtheta[i,3] + deq4 ])\n",
    "\n",
    "    Pa1[:,i] = np.dot(mr.FKinBody(M_home, xi00, np.array([ vtheta[i,0] + deq1, vtheta[i,1] + deq2, vtheta[i,2] + deq3, vtheta[i,3] + deq4 ])), np.r_[P01,1].reshape((4,1)) ).reshape((4,)) + ((np.random.rand(4,1)*0.2-0.1) * s).reshape((4,))\n",
    "    Pa2[:,i] = np.dot(mr.FKinBody(M_home, xi00, np.array([ vtheta[i,0] + deq1, vtheta[i,1] + deq2, vtheta[i,2] + deq3, vtheta[i,3] + deq4 ])), np.r_[P02,1].reshape((4,1)) ).reshape((4,)) + ((np.random.rand(4,1)*0.2-0.1) * s).reshape((4,))\n",
    "    Pa3[:,i] = np.dot(mr.FKinBody(M_home, xi00, np.array([ vtheta[i,0] + deq1, vtheta[i,1] + deq2, vtheta[i,2] + deq3, vtheta[i,3] + deq4 ])), np.r_[P03,1].reshape((4,1)) ).reshape((4,)) + ((np.random.rand(4,1)*0.2-0.1) * s).reshape((4,))\n",
    "    PY = np.c_[Pa1[0:3,i],Pa2[0:3,i],Pa3[0:3,i]]\n",
    "\n",
    "    R,t = Registration(PX, PY)\n",
    "\n",
    "    gm[0:3,0:3,i] = R\n",
    "    gm[0:3,3,i] = t\n",
    "    gn[:,:,i] = mr.FKinBody(M_home, xi00, thetalist)\n",
    "\n",
    "# calibration\n",
    "xiTrad, dqTrad, meanETrad, convergenceTrad = traditionalCalibrationScara(xi0, vtheta, gm, 10)\n",
    "Nt=50\n",
    "error_before=np.zeros((Nt,1))\n",
    "error_afterMinimal=np.zeros((Nt,1))\n",
    "error_afterTraditional=np.zeros((Nt,1))\n",
    "test_joint_config = np.c_[np.random.rand(Nt,1) * 2 * np.pi, np.random.rand(Nt,1) * 2 * np.pi, np.random.rand(Nt,1) * 1000 * s, np.random.rand(Nt,1) * 2 * np.pi ]\n",
    "\n",
    "\n",
    "for i in range(0,Nt):\n",
    "    \n",
    "    error_before[i] = np.linalg.norm( np.dot( mr.FKinBody(M_home, np.round(xi0,4), test_joint_config[i,:]) - mr.FKinBody(M_home, np.round(xi00,4), test_joint_config[i,:] + np.array([deq1,deq2,deq3,deq4]) ), np.r_[P00,1])) / s\n",
    "    \n",
    "    error_afterTraditional[i] = np.linalg.norm( np.dot( mr.FKinBody(M_home, np.round(xiTrad,4), (test_joint_config[i,:] + dqTrad.T).reshape( (4,) ) ) - mr.FKinBody(M_home, np.round(xi00,4), test_joint_config[i,:] + np.array([deq1,deq2,deq3,deq4]) ), np.r_[P00,1]) ) / s\n",
    "\n",
    "\n",
    "print(\"Mean error = {}\".format(np.mean(error_before)))\n",
    "print(\"Mean error calibrated = {}\".format(np.mean(error_afterTraditional)))\n",
    "\n",
    "print(\"Max error before = {}\".format(np.max(error_before)))\n",
    "print(\"Max error calibrated = {}\".format(np.max(error_afterTraditional)))"
   ]
  },
  {
   "cell_type": "code",
   "execution_count": 8,
   "metadata": {},
   "outputs": [
    {
     "data": {
      "text/plain": [
       "array([ 0.039999980000015 , -0.0199999900000075,  0.998999500500375 ,\n",
       "        0.02              ,  0.04              ,  0.                ])"
      ]
     },
     "execution_count": 8,
     "metadata": {},
     "output_type": "execute_result"
    }
   ],
   "source": [
    "\n",
    "xi01=np.array([0.0399999800000150,-0.0199999900000075,0.998999500500375,0.0200000000000000,0.0400000000000000,0])\n",
    "xi02=np.array([0,-1,0,-0.0200000000000000,0,0.0500000000000000])\n",
    "xi03=np.array([0.178005251232368,-0.984029029284552,-0.00100002950130544,-0.0841845888907446,0.0874136824072620,-100.999920311298])\n",
    "xi04=np.array([0.0619994730067192,0.0129998895014089,-0.997991517108157,-50.9999969248523,249.000000644789,0.0751505000414993])\n",
    "xi05=np.array([0.000999959501660306,-0.999999500040373,0,-20.6000000008239,-0.0205991760337826,-249])\n",
    "xi06=np.array([0.0949994775043106,0.0309998295014066,-0.994994527545148,-51.2730269967030,248.910906980023,2.85959854441601])\n",
    "\n",
    "np.c_[xi01,xi02,xi03,xi04,xi05,xi06][:,0]"
   ]
  },
  {
   "cell_type": "code",
   "execution_count": 20,
   "metadata": {},
   "outputs": [
    {
     "ename": "IndexError",
     "evalue": "too many indices for array: array is 1-dimensional, but 2 were indexed",
     "output_type": "error",
     "traceback": [
      "\u001b[0;31m---------------------------------------------------------------------------\u001b[0m",
      "\u001b[0;31mIndexError\u001b[0m                                Traceback (most recent call last)",
      "Cell \u001b[0;32mIn[20], line 2\u001b[0m\n\u001b[1;32m      1\u001b[0m xist00\u001b[39m=\u001b[39mnp\u001b[39m.\u001b[39marray([\u001b[39m0.02\u001b[39m, \u001b[39m-\u001b[39m\u001b[39m0.01\u001b[39m, \u001b[39m0.01\u001b[39m, \u001b[39m249\u001b[39m, \u001b[39m51\u001b[39m, \u001b[39m-\u001b[39m\u001b[39m20.6\u001b[39m])\n\u001b[0;32m----> 2\u001b[0m xist00[\u001b[39m3\u001b[39m:\u001b[39m5\u001b[39m,:] \u001b[39m=\u001b[39m xist00[\u001b[39m3\u001b[39;49m:\u001b[39m5\u001b[39;49m,:]\u001b[39m*\u001b[39ms\n",
      "\u001b[0;31mIndexError\u001b[0m: too many indices for array: array is 1-dimensional, but 2 were indexed"
     ]
    }
   ],
   "source": [
    "xist00=np.array([0.02, -0.01, 0.01, 249, 51, -20.6])\n",
    "xist00[3:5,:] = xist00[3:5,:]*s"
   ]
  },
  {
   "cell_type": "code",
   "execution_count": 44,
   "metadata": {},
   "outputs": [],
   "source": [
    "a = np.round(np.random.rand(6,6),4)"
   ]
  },
  {
   "cell_type": "code",
   "execution_count": 45,
   "metadata": {},
   "outputs": [
    {
     "data": {
      "text/plain": [
       "array([[0.9525, 0.5566, 0.9432, 0.3636, 0.2225, 0.5344],\n",
       "       [0.2884, 0.8502, 0.9749, 0.2014, 0.4649, 0.8011],\n",
       "       [0.9763, 0.1174, 0.6488, 0.7333, 0.3208, 0.5876],\n",
       "       [0.7485, 0.3952, 0.2782, 0.5921, 0.5755, 0.154 ],\n",
       "       [0.2014, 0.406 , 0.0137, 0.3584, 0.751 , 0.762 ],\n",
       "       [0.4321, 0.7638, 0.5744, 0.8581, 0.3019, 0.7123]])"
      ]
     },
     "execution_count": 45,
     "metadata": {},
     "output_type": "execute_result"
    }
   ],
   "source": [
    "a"
   ]
  },
  {
   "cell_type": "code",
   "execution_count": 46,
   "metadata": {},
   "outputs": [
    {
     "data": {
      "text/plain": [
       "array([[0.9525, 0.5566, 0.9432],\n",
       "       [0.2884, 0.8502, 0.9749],\n",
       "       [0.9763, 0.1174, 0.6488]])"
      ]
     },
     "execution_count": 46,
     "metadata": {},
     "output_type": "execute_result"
    }
   ],
   "source": [
    "a[0:3,0:3]"
   ]
  },
  {
   "cell_type": "code",
   "execution_count": 47,
   "metadata": {},
   "outputs": [
    {
     "data": {
      "text/plain": [
       "array([[0.5921, 0.5755, 0.154 ],\n",
       "       [0.3584, 0.751 , 0.762 ],\n",
       "       [0.8581, 0.3019, 0.7123]])"
      ]
     },
     "execution_count": 47,
     "metadata": {},
     "output_type": "execute_result"
    }
   ],
   "source": [
    "a[3:6,3:6]"
   ]
  },
  {
   "cell_type": "code",
   "execution_count": 28,
   "metadata": {},
   "outputs": [],
   "source": [
    "xist00=np.array([0.02, -0.01, 0.01, 249, 51, -20.6])\n",
    "xist00[3:6] = xist00[3:6]*s"
   ]
  },
  {
   "cell_type": "code",
   "execution_count": 48,
   "metadata": {},
   "outputs": [],
   "source": [
    "a = np.random.rand(3,3)\n",
    "b = np.random.rand(3,3)\n",
    "c = np.random.rand(3,3)"
   ]
  },
  {
   "cell_type": "code",
   "execution_count": 53,
   "metadata": {},
   "outputs": [
    {
     "name": "stdout",
     "output_type": "stream",
     "text": [
      "1\n",
      "2\n",
      "3\n",
      "4\n",
      "5\n",
      "6\n",
      "7\n",
      "8\n",
      "9\n"
     ]
    }
   ],
   "source": [
    "for i in range(1,10):\n",
    "    print(i)"
   ]
  }
 ],
 "metadata": {
  "kernelspec": {
   "display_name": "venv",
   "language": "python",
   "name": "python3"
  },
  "language_info": {
   "codemirror_mode": {
    "name": "ipython",
    "version": 3
   },
   "file_extension": ".py",
   "mimetype": "text/x-python",
   "name": "python",
   "nbconvert_exporter": "python",
   "pygments_lexer": "ipython3",
   "version": "3.8.10"
  },
  "orig_nbformat": 4,
  "vscode": {
   "interpreter": {
    "hash": "08f6159b3d1d4f87615e8cec5068a8b15838f32d51599d0dfe814047119ba818"
   }
  }
 },
 "nbformat": 4,
 "nbformat_minor": 2
}
