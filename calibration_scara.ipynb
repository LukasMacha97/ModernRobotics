{
 "cells": [
  {
   "cell_type": "code",
   "execution_count": 1,
   "metadata": {},
   "outputs": [],
   "source": [
    "import modern_robotics as mr\n",
    "import numpy as np\n",
    "import numpy.matlib\n",
    "from calibration import *\n",
    "numpy.set_printoptions(precision=16)"
   ]
  },
  {
   "cell_type": "code",
   "execution_count": 9,
   "metadata": {},
   "outputs": [
    {
     "name": "stdout",
     "output_type": "stream",
     "text": [
      "Mean error = 80.91413778241537\n",
      "Mean error calibrated = 0.5343167559748713\n",
      "Max error before = 177.0767194468632\n",
      "Max error calibrated = 0.9552829498802909\n"
     ]
    }
   ],
   "source": [
    "w1 = np.array([0,0,1])\n",
    "p1 = np.array([0,0,0])\n",
    "\n",
    "w2 = np.array([0,0,1])\n",
    "p2 = np.array([0.250,0,0])\n",
    "\n",
    "w3 = np.array([0,0,0])\n",
    "p3 = np.array([0,0,-1])\n",
    "\n",
    "w4 = np.array([0,0,-1])\n",
    "p4 = np.array([0.470,0,0])\n",
    "\n",
    "\n",
    "\n",
    "s = 0.001\n",
    "ax1 = mr.ScrewToAxis(p1,w1,0)\n",
    "ax2 = mr.ScrewToAxis(p2,w2,0)\n",
    "ax3 = np.r_[[0,0,0],p3]\n",
    "ax4 = mr.ScrewToAxis(p4,w4,0)\n",
    "xi0 = np.c_[ax1,ax2,ax3,ax4]\n",
    "\n",
    "\n",
    "deq1=0\n",
    "deq2=0.02\n",
    "deq3=0.002\n",
    "deq4=0.02\n",
    "\n",
    "xi01= np.array([0.0199900035972015,0,0.999800179914059,0,0.0130330000000000*1000*s,0])\n",
    "xi02=np.array([0,0.000399999968000004,0.999999920000010,-0.000300000000000000*1000*s,-0.253990000161600*1000*s,0.000101596000064640*1000*s])\n",
    "xi03=np.array([0,0,0,0.0199999568791395,0.0195999577415567,-0.999607844797830])\n",
    "xi04=np.array([0.0407700195329210,0.0391700187663605,-0.998400478333784,-0.0266829837144079*1000*s,0.504558015646471*1000*s,0.0187056011887379*1000*s])\n",
    "xi00=np.c_[xi01,xi02,xi03,xi04]\n",
    "N=10 \n",
    "\n",
    "vtheta=np.c_[np.random.rand(N,1)*2*np.pi,np.random.rand(N,1)*2*np.pi,np.random.rand(N,1)*1000*s,np.random.rand(N,1)*2*np.pi]\n",
    "P00=np.array([-100,-100,-100])*s\n",
    "P01=np.array([100,0,0])*s\n",
    "P02=np.array([0,100,0])*s\n",
    "P03=np.array([0,0,100])*s\n",
    "PX=np.c_[P01,P02,P03]\n",
    "gm=np.zeros((4,4,N))\n",
    "gn=np.zeros((4,4,N))\n",
    "Pa1=np.zeros((4,N))\n",
    "Pa2=np.zeros((4,N))\n",
    "Pa3=np.zeros((4,N))\n",
    "M_home = np.eye(4)\n",
    "\n",
    "\n",
    "for i in range(0,10):\n",
    "    \n",
    "    thetalist = np.array([ vtheta[i,0] + deq1, vtheta[i,1] + deq2, vtheta[i,2] + deq3, vtheta[i,3] + deq4 ])\n",
    "\n",
    "    Pa1[:,i] = np.dot(mr.FKinBody(M_home, xi00, np.array([ vtheta[i,0] + deq1, vtheta[i,1] + deq2, vtheta[i,2] + deq3, vtheta[i,3] + deq4 ])), np.r_[P01,1].reshape((4,1)) ).reshape((4,)) + ((np.random.rand(4,1)*0.2-0.1) * s).reshape((4,))\n",
    "    Pa2[:,i] = np.dot(mr.FKinBody(M_home, xi00, np.array([ vtheta[i,0] + deq1, vtheta[i,1] + deq2, vtheta[i,2] + deq3, vtheta[i,3] + deq4 ])), np.r_[P02,1].reshape((4,1)) ).reshape((4,)) + ((np.random.rand(4,1)*0.2-0.1) * s).reshape((4,))\n",
    "    Pa3[:,i] = np.dot(mr.FKinBody(M_home, xi00, np.array([ vtheta[i,0] + deq1, vtheta[i,1] + deq2, vtheta[i,2] + deq3, vtheta[i,3] + deq4 ])), np.r_[P03,1].reshape((4,1)) ).reshape((4,)) + ((np.random.rand(4,1)*0.2-0.1) * s).reshape((4,))\n",
    "    PY = np.c_[Pa1[0:3,i],Pa2[0:3,i],Pa3[0:3,i]]\n",
    "\n",
    "    R,t = registration(PX, PY)\n",
    "\n",
    "    gm[0:3,0:3,i] = R\n",
    "    gm[0:3,3,i] = t\n",
    "    gn[:,:,i] = mr.FKinBody(M_home, xi00, thetalist)\n",
    "\n",
    "# calibration\n",
    "xiTrad, dqTrad, meanETrad, convergenceTrad = traditional_calibration_scara(xi0, vtheta, gm, 10)\n",
    "\n",
    "Nt=50\n",
    "error_before=np.zeros((Nt,1))\n",
    "error_afterMinimal=np.zeros((Nt,1))\n",
    "error_afterTraditional=np.zeros((Nt,1))\n",
    "test_joint_config = np.c_[np.random.rand(Nt,1) * 2 * np.pi, np.random.rand(Nt,1) * 2 * np.pi, np.random.rand(Nt,1) * 1000 * s, np.random.rand(Nt,1) * 2 * np.pi ]\n",
    "\n",
    "\n",
    "for i in range(0,Nt):\n",
    "    \n",
    "    error_before[i] = np.linalg.norm( np.dot( mr.FKinBody(M_home, np.round(xi0,4), test_joint_config[i,:]) - mr.FKinBody(M_home, np.round(xi00,4), test_joint_config[i,:] + np.array([deq1,deq2,deq3,deq4]) ), np.r_[P00,1])) / s\n",
    "    \n",
    "    error_afterTraditional[i] = np.linalg.norm( np.dot( mr.FKinBody(M_home, np.round(xiTrad,4), (test_joint_config[i,:] + dqTrad.T).reshape( (4,) ) ) - mr.FKinBody(M_home, np.round(xi00,4), test_joint_config[i,:] + np.array([deq1,deq2,deq3,deq4]) ), np.r_[P00,1]) ) / s\n",
    "\n",
    "\n",
    "print(\"Mean error = {}\".format(np.mean(error_before)))\n",
    "print(\"Mean error calibrated = {}\".format(np.mean(error_afterTraditional)))\n",
    "\n",
    "print(\"Max error before = {}\".format(np.max(error_before)))\n",
    "print(\"Max error calibrated = {}\".format(np.max(error_afterTraditional)))"
   ]
  },
  {
   "cell_type": "code",
   "execution_count": null,
   "metadata": {},
   "outputs": [],
   "source": []
  }
 ],
 "metadata": {
  "kernelspec": {
   "display_name": "venv",
   "language": "python",
   "name": "python3"
  },
  "language_info": {
   "codemirror_mode": {
    "name": "ipython",
    "version": 3
   },
   "file_extension": ".py",
   "mimetype": "text/x-python",
   "name": "python",
   "nbconvert_exporter": "python",
   "pygments_lexer": "ipython3",
   "version": "3.8.10"
  },
  "orig_nbformat": 4,
  "vscode": {
   "interpreter": {
    "hash": "08f6159b3d1d4f87615e8cec5068a8b15838f32d51599d0dfe814047119ba818"
   }
  }
 },
 "nbformat": 4,
 "nbformat_minor": 2
}
