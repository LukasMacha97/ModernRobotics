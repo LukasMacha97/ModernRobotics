{
 "cells": [
  {
   "cell_type": "code",
   "execution_count": 2,
   "metadata": {},
   "outputs": [],
   "source": [
    "import modern_robotics as mr\n",
    "import numpy as np\n",
    "from calibration import *\n",
    "np.set_printoptions(precision=16)"
   ]
  },
  {
   "cell_type": "code",
   "execution_count": null,
   "metadata": {},
   "outputs": [],
   "source": []
  },
  {
   "cell_type": "code",
   "execution_count": 3,
   "metadata": {},
   "outputs": [],
   "source": [
    "s = 0.001 # using mm as units\n",
    "\n",
    "w1 = np.array([0,0,1])\n",
    "v1 = np.array([0,0,0])*s\n",
    "\n",
    "w2 = np.array([0,-1,0])\n",
    "v2 = np.array([0,0,0])*s\n",
    "\n",
    "w3 = np.array([0,-1,0])\n",
    "v3 = np.array([0,0,-100])*s\n",
    "\n",
    "w4 = np.array([0,0,-1])\n",
    "v4 = np.array([-50,250,0])*s\n",
    "\n",
    "w5 = np.array([0,-1,0])\n",
    "v5 = np.array([-20,0,-250])*s\n",
    "\n",
    "w6 = np.array([0,0,-1])\n",
    "v6 = np.array([-50,250,0])*s\n",
    "\n",
    "\n",
    "xi0 = np.c_[np.r_[w1,v1], np.r_[w2,v2], np.r_[w3,v3], np.r_[w4,v4], np.r_[w5,v5], np.r_[w6,v6]]\n",
    "\n",
    "\n",
    "\n",
    "wist0 = np.array([0,0,0])\n",
    "vist0 = np.array([250,50,-20])*s\n",
    "\n",
    "xist0 = np.r_[wist0, vist0]\n",
    "\n",
    "# introducing some random error\n",
    "\n",
    "xi01=np.array([0.0399,-0.0199,0.9989,0.0200,0.0400,0])\n",
    "xi02=np.array([0,-1,0,-0.0200,0,0.0500])\n",
    "xi03=np.array([0.1780,-0.9840,-0.0010,-0.0841,0.0874,-100.9999])\n",
    "xi04=np.array([0.0619,0.0129,-0.9979,-50.9999,249.0000,0.0751])\n",
    "xi05=np.array([0.0009,-0.9999,0,-20.6000,-0.0205,-249])\n",
    "xi06=np.array([0.0949,0.0309,-0.9949,-51.2730,248.9109,2.8595])\n",
    "\n",
    "xi00=np.c_[xi01,xi02,xi03,xi04,xi05,xi06]\n",
    "xi00[3:6,:] = xi00[3:6,:]*s\n",
    "\n",
    "#initial twist\n",
    "xist00=np.array([0.02, -0.01, 0.01, 249, 51, -20.6])\n",
    "xist00[3:6] = xist00[3:6]*s\n",
    "\n",
    "mean_error_before = np.zeros((10,1))\n",
    "mean_error_traditional = np.zeros((10,1))\n",
    "\n",
    "max_error_before = np.zeros((10,1))\n",
    "max_error_traditional = np.zeros((10,1))\n"
   ]
  },
  {
   "cell_type": "code",
   "execution_count": 4,
   "metadata": {},
   "outputs": [],
   "source": [
    "for N in np.arange(10,110,10):\n",
    "# for N in [10]:\n",
    "\n",
    "    P01=np.array([100, 0, 0]) * s\n",
    "    P02=np.array([0, 100, 0]) * s\n",
    "    P03=np.array([0, 0, 100]) * s\n",
    "    PX=np.c_[P01, P02, P03]\n",
    "\n",
    "    P04=np.array([-100, -100, -100]) * s\n",
    "\n",
    "    \n",
    "    gm=np.zeros((4, 4, N))\n",
    "    gn=np.zeros((4, 4, N))\n",
    "    Pa1=np.zeros((4, N))\n",
    "    Pa2=np.zeros((4, N))\n",
    "    Pa3=np.zeros((4, N))\n",
    "    M_home = np.eye(4)\n",
    "\n",
    "    cali_joint_angles = np.random.rand(N, 6) * 2 * np.pi - np.pi\n",
    "\n",
    "    for i in range(0,N):\n",
    "        \n",
    "        Pa1[:, i] = np.dot(mr.FKinSpace(se3_exp(xist00), xi00, cali_joint_angles[i, :]), np.r_[P01, 1].reshape((4, 1)) ).reshape((4,)) + ((np.random.rand(4, 1) * 0.2 - 0.1) * s).reshape((4,))\n",
    "        Pa2[:, i] = np.dot(mr.FKinSpace(se3_exp(xist00), xi00, cali_joint_angles[i, :]), np.r_[P02, 1].reshape((4, 1)) ).reshape((4,)) + ((np.random.rand(4, 1) * 0.2 - 0.1) * s).reshape((4,))\n",
    "        Pa3[:, i] = np.dot(mr.FKinSpace(se3_exp(xist00), xi00, cali_joint_angles[i, :]), np.r_[P03, 1].reshape((4, 1)) ).reshape((4,)) + ((np.random.rand(4, 1) * 0.2 - 0.1) * s).reshape((4,))\n",
    "        \n",
    "        PY = np.c_[Pa1[0:3, i], Pa2[0:3, i], Pa3[0:3, i]]\n",
    "\n",
    "        R,t = registration(PX, PY)\n",
    "\n",
    "        gm[0:3,0:3,i] = R\n",
    "        gm[0:3,3,i] = t\n",
    "        gn[:,:,i] = mr.FKinSpace(se3_exp(xist00), xi00, cali_joint_angles[i, :])\n",
    "\n",
    "\n",
    "    xiTFP, xistTFP = traditional_calibration_6dof(xi0, xist00, cali_joint_angles, np.round(gm, 4), N)\n",
    "\n",
    "\n",
    "    Nt=40\n",
    "\n",
    "    error_before=np.zeros((Nt,1))\n",
    "        \n",
    "    error_afterTraditional=np.zeros((Nt,1))\n",
    "\n",
    "    test_joint_config = np.random.rand(Nt,5) * 2 * np.pi - np.pi\n",
    "\n",
    "    for i in range(0,Nt):\n",
    "        \n",
    "        error_before[i] = np.linalg.norm( np.dot( mr.FKinSpace(se3_exp(xist0), xi0, test_joint_config[i,:]) - mr.FKinSpace(se3_exp(xist00), xi00, test_joint_config[i,:]), np.r_[P04,1])) / s\n",
    "        \n",
    "        error_afterTraditional[i] = np.linalg.norm( np.dot( mr.FKinSpace(se3_exp(xistTFP), xiTFP, test_joint_config[i,:]) - mr.FKinSpace(se3_exp(xist00), xi00, test_joint_config[i,:]), np.r_[P04,1]))  / s\n",
    "\n",
    "    idx = int(N/10) - 1\n",
    "\n",
    "    mean_error_before[idx, 0] = np.mean(error_before)\n",
    "    mean_error_traditional[idx, 0] = np.mean(error_afterTraditional)\n",
    "\n"
   ]
  },
  {
   "cell_type": "code",
   "execution_count": 5,
   "metadata": {},
   "outputs": [
    {
     "name": "stdout",
     "output_type": "stream",
     "text": [
      "Mean error before:  [[39.51137313936243 ]\n",
      " [55.089438337569085]\n",
      " [49.98018196274612 ]\n",
      " [44.56967682635239 ]\n",
      " [53.40388393002909 ]\n",
      " [45.49723185892761 ]\n",
      " [45.29414118062856 ]\n",
      " [53.340670515264456]\n",
      " [47.37132993038714 ]\n",
      " [38.290798047180814]]\n",
      "Mean error traditional:  [[0.7339900209696649]\n",
      " [0.2596778747215882]\n",
      " [0.2234316255258172]\n",
      " [0.1365718311740532]\n",
      " [0.117529181443677 ]\n",
      " [0.1079631599223945]\n",
      " [0.1462475772139311]\n",
      " [0.1336550527705239]\n",
      " [0.1318678663527277]\n",
      " [0.1163524806770711]]\n"
     ]
    }
   ],
   "source": [
    "print(\"Mean error before: \", mean_error_before)\n",
    "print(\"Mean error traditional: \", mean_error_traditional)"
   ]
  },
  {
   "cell_type": "code",
   "execution_count": null,
   "metadata": {},
   "outputs": [],
   "source": []
  }
 ],
 "metadata": {
  "kernelspec": {
   "display_name": "venv",
   "language": "python",
   "name": "python3"
  },
  "language_info": {
   "codemirror_mode": {
    "name": "ipython",
    "version": 3
   },
   "file_extension": ".py",
   "mimetype": "text/x-python",
   "name": "python",
   "nbconvert_exporter": "python",
   "pygments_lexer": "ipython3",
   "version": "3.8.10"
  },
  "orig_nbformat": 4,
  "vscode": {
   "interpreter": {
    "hash": "08f6159b3d1d4f87615e8cec5068a8b15838f32d51599d0dfe814047119ba818"
   }
  }
 },
 "nbformat": 4,
 "nbformat_minor": 2
}
