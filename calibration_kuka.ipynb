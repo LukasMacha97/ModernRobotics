{
 "cells": [
  {
   "cell_type": "code",
   "execution_count": 1,
   "metadata": {},
   "outputs": [],
   "source": [
    "import modern_robotics as mr\n",
    "import numpy as np\n",
    "from calibration import *\n",
    "np.set_printoptions(precision = 16)"
   ]
  },
  {
   "cell_type": "code",
   "execution_count": 2,
   "metadata": {},
   "outputs": [],
   "source": [
    "s = 0.001 # using mm as units\n",
    "\n",
    "w1 = np.array([1,0,0])\n",
    "q1 = np.array([0,0,0])*s\n",
    "v1 = mr.ScrewToAxis(q1, w1, 0)\n",
    "\n",
    "w2 = np.array([1,0,0])\n",
    "q2 = np.array([0,0,1250])*s\n",
    "v2 = mr.ScrewToAxis(q2, w2, 0)\n",
    "\n",
    "w3 = np.array([0,1,0])\n",
    "q3 = np.array([0,0,1250+45])*s\n",
    "v3 = mr.ScrewToAxis(q3, w3, 0)\n",
    "\n",
    "w4 = np.array([1,0,0])\n",
    "q4 = np.array([0,740+360,1250+45])*s\n",
    "v4 = mr.ScrewToAxis(q4, w4, 0)\n",
    "\n",
    "w5 = np.array([0,1,0])\n",
    "q5 = np.array([0,0,1250+45])*s\n",
    "v5 = mr.ScrewToAxis(q5, w5, 0)\n",
    "\n",
    "xi0 = np.c_[v1, v2, v3, v4, v5]"
   ]
  },
  {
   "cell_type": "code",
   "execution_count": 3,
   "metadata": {},
   "outputs": [],
   "source": [
    "wist0 = np.array([0,0,0])\n",
    "vist0 = np.array([0,1310,1295])*s\n",
    "\n",
    "xist0 = np.r_[wist0, vist0]\n",
    "\n",
    "\n",
    "# introducing some random error\n",
    "\n",
    "w01=np.array([0.9989, -0.0089, 0.0009])\n",
    "q01=np.array([0.0010, 0.0200, 0])*s\n",
    "v01 = mr.ScrewToAxis(q01, w01, 0)\n",
    "\n",
    "w02=np.array([0.9989, 0.0034, 0.0005]) \n",
    "q02 = np.array([-0.0200, 0.0500, 1254.8])*s\n",
    "v02 = mr.ScrewToAxis(q02, w02, 0)\n",
    "\n",
    "w03=np.array([0.0078, 0.9940, -0.0010])\n",
    "q03=np.array([0.0374, 0.0074, 1250+44.8])*s\n",
    "v03 = mr.ScrewToAxis(q03, w03, 0)\n",
    "\n",
    "w04=np.array([0.9999, 0.0109, -0.0119])\n",
    "q04 = np.array([0.0251, 740+(0.01)+360+(0.002), 1250+45+(-0.002)])*s\n",
    "v04 = mr.ScrewToAxis(q04, w04, 0)\n",
    "\n",
    "w05=np.array([0.0009, 0.9999, 0])\n",
    "q05=np.array([0.0013, -0.0105, 1250+45+(-0.03)])*s\n",
    "v05 = mr.ScrewToAxis(q05, w05, 0)\n",
    "\n",
    "xi00 = np.c_[v01, v02, v03, v04, v05]\n",
    "\n",
    "#initial twist\n",
    "xist00=np.array([0.002, -0.001, 0.001, 0.0085, 1310, 1295])\n",
    "xist00[3:6] = xist00[3:6]*s\n",
    "\n",
    "\n",
    "mean_error_before = np.zeros((10,1))\n",
    "mean_error_traditional = np.zeros((10,1))\n",
    "nmean_error_traditional = np.zeros((10,1))\n",
    "\n",
    "max_error_before = np.zeros((10,1))\n",
    "max_error_traditional = np.zeros((10,1))\n",
    "nmax_error_traditional = np.zeros((10,1))\n"
   ]
  },
  {
   "cell_type": "code",
   "execution_count": 6,
   "metadata": {},
   "outputs": [],
   "source": [
    "xi00 = xiTFP\n",
    "xist00 = xistTFP"
   ]
  },
  {
   "cell_type": "code",
   "execution_count": 7,
   "metadata": {},
   "outputs": [],
   "source": [
    "# for N in np.arange(10,110,10):\n",
    "for N in [10]:\n",
    "\n",
    "    P01=np.array([100, 0, 0]) * s\n",
    "    \n",
    "    P02=np.array([0, 100, 0]) * s\n",
    "    \n",
    "    P03=np.array([0, 0, 100]) * s\n",
    "    \n",
    "    PX=np.c_[P01, P02, P03]\n",
    "\n",
    "    P04=np.array([-100, -100, -100]) * s\n",
    "    \n",
    "    gm=np.zeros((4, 4, N))\n",
    "    \n",
    "    gn=np.zeros((4, 4, N))\n",
    "    \n",
    "    Pa1=np.zeros((4, N))\n",
    "    \n",
    "    Pa2=np.zeros((4, N))\n",
    "    \n",
    "    Pa3=np.zeros((4, N))\n",
    "    \n",
    "    cali_joint_angles = np.random.rand(N, 5) * 2 * np.pi - np.pi\n",
    "\n",
    "    for i in range(0,N):\n",
    "        \n",
    "        Pa1[:, i] = np.dot(mr.FKinSpace(se3_exp(xist00), xi00, cali_joint_angles[i, :]), np.r_[P01, 1].reshape((4, 1)) ).reshape((4,)) #+ ((np.random.rand(4, 1) * 0.2 - 0.1) * s).reshape((4,))\n",
    "        \n",
    "        Pa2[:, i] = np.dot(mr.FKinSpace(se3_exp(xist00), xi00, cali_joint_angles[i, :]), np.r_[P02, 1].reshape((4, 1)) ).reshape((4,)) #+ ((np.random.rand(4, 1) * 0.2 - 0.1) * s).reshape((4,))\n",
    "        \n",
    "        Pa3[:, i] = np.dot(mr.FKinSpace(se3_exp(xist00), xi00, cali_joint_angles[i, :]), np.r_[P03, 1].reshape((4, 1)) ).reshape((4,)) #+ ((np.random.rand(4, 1) * 0.2 - 0.1) * s).reshape((4,))\n",
    "        \n",
    "        PY = np.c_[Pa1[0:3, i], Pa2[0:3, i], Pa3[0:3, i]]\n",
    "\n",
    "        R, t = registration(PX, PY)\n",
    "\n",
    "        gm[0:3, 0:3, i] = R\n",
    "        \n",
    "        gm[0:3, 3, i] = t\n",
    "        \n",
    "        gn[:, :, i] = mr.FKinSpace(se3_exp(xist00), xi00, cali_joint_angles[i, :])\n",
    "\n",
    "    \n",
    "    xiTFP, xistTFP = traditional_calibration_5dof(xi0, xist00, cali_joint_angles, np.round(gm, 4), 10)\n",
    "\n",
    "    nxiTFP, nxistTFP = traditional_calibration_ndof(xi0, xist00, cali_joint_angles, np.round(gm, 4), 10)\n",
    "\n",
    "    Nt=40\n",
    "\n",
    "    error_before=np.zeros((Nt,1))\n",
    "\n",
    "    error_afterTraditional=np.zeros((Nt,1))\n",
    "\n",
    "    nerror_afterTraditional=np.zeros((Nt,1))\n",
    "\n",
    "    test_joint_config = np.random.rand(Nt,5) * 2 * np.pi - np.pi\n",
    "\n",
    "    for i in range(0, Nt):\n",
    "        \n",
    "        error_before[i] = np.linalg.norm( np.dot( mr.FKinSpace(se3_exp(xist0), xi0, test_joint_config[i,:]) - mr.FKinSpace(se3_exp(xist00), xi00, test_joint_config[i,:]), np.r_[P04,1])) / s\n",
    "        \n",
    "        error_afterTraditional[i] = np.linalg.norm( np.dot( mr.FKinSpace(se3_exp(xistTFP), xiTFP, test_joint_config[i,:]) - mr.FKinSpace(se3_exp(xist00), xi00, test_joint_config[i,:]), np.r_[P04,1]))  / s\n",
    "\n",
    "        nerror_afterTraditional[i] = np.linalg.norm( np.dot( mr.FKinSpace(se3_exp(nxistTFP), nxiTFP, test_joint_config[i,:]) - mr.FKinSpace(se3_exp(xist00), xi00, test_joint_config[i,:]), np.r_[P04,1]))  / s\n",
    "\n",
    "    idx = int(N/10) - 1\n",
    "\n",
    "    mean_error_before[idx, 0] = np.mean(error_before)\n",
    "\n",
    "    mean_error_traditional[idx, 0] = np.mean(error_afterTraditional)\n",
    "\n",
    "    nmean_error_traditional[idx, 0] = np.mean(error_afterTraditional)\n",
    "\n"
   ]
  },
  {
   "cell_type": "code",
   "execution_count": 8,
   "metadata": {},
   "outputs": [
    {
     "name": "stdout",
     "output_type": "stream",
     "text": [
      "Mean error before:  [20.987052947090664]\n",
      "Mean error traditional:  [0.1431196340128081]\n",
      "Mean error ntraditional:  [0.1431196340128081]\n"
     ]
    }
   ],
   "source": [
    "print(\"Mean error before: \", mean_error_before[0])\n",
    "print(\"Mean error traditional: \", mean_error_traditional[0])\n",
    "print(\"Mean error ntraditional: \", nmean_error_traditional[0])"
   ]
  },
  {
   "cell_type": "code",
   "execution_count": null,
   "metadata": {},
   "outputs": [],
   "source": []
  }
 ],
 "metadata": {
  "kernelspec": {
   "display_name": "venv",
   "language": "python",
   "name": "python3"
  },
  "language_info": {
   "codemirror_mode": {
    "name": "ipython",
    "version": 3
   },
   "file_extension": ".py",
   "mimetype": "text/x-python",
   "name": "python",
   "nbconvert_exporter": "python",
   "pygments_lexer": "ipython3",
   "version": "3.8.10"
  },
  "orig_nbformat": 4,
  "vscode": {
   "interpreter": {
    "hash": "08f6159b3d1d4f87615e8cec5068a8b15838f32d51599d0dfe814047119ba818"
   }
  }
 },
 "nbformat": 4,
 "nbformat_minor": 2
}
